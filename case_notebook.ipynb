{
 "cells": [
  {
   "attachments": {},
   "cell_type": "markdown",
   "metadata": {},
   "source": [
    "# **Case Avançado Hype 2024.1**"
   ]
  },
  {
   "attachments": {},
   "cell_type": "markdown",
   "metadata": {},
   "source": [
    "## Introdução "
   ]
  },
  {
   "attachments": {},
   "cell_type": "markdown",
   "metadata": {},
   "source": [
    "Os membros da diretoria do Hype, de vez em quando, escolhem um jogo para jogarem juntos. O jogo escolhido da vez foi \"Pokémon Omega Ruby / Alpha Sapphire\", mais comumente chamado de \"Pokémon ORAS\".\n",
    "\n",
    "Uma das atividades mais queridas entre os jogadores de Pokémon está a captura de todos os monstrinhos, porém trata-se de uma tarefa bem árdua dependendo do jogo da franquia. No caso de ORAS, estamos falando de mais de 700 pokémon.\n",
    "\n",
    "Tendo em vista a dificuldade de capturar mais de 700 pokémon, os membros da diretoria decidiram dividir entre eles os pokémon para serem capturados. De forma que, juntando o pokémon de todos eles, teriam todos os pokémon do jogo. Porém, como fazer essa divisão?  \n",
    "\n",
    "Durante uma confraternização do Hype, a diretoria citou o desafio da divisão dos pokémon entre os outros membros do Hype, porém ninguém soube dar uma boa resposta para a pergunta. Após alguns dias, chegou um email misterioso na caixa de entrada do Hype com um conjunto de dados que havia as características dos pokémon e quem deveria capturar aquele pokémon.\n",
    "\n",
    "Os membros da diretoria, estupefatos com a mensagem, começaram a se perguntar qual era a lógica por trás daquela divisão e, caso aquela divisão fosse coerente, como eles poderiam criar um classificador para usar em aventuras pokémon futuras. \n",
    "\n",
    "## Instruções\n",
    "\n",
    "O case tem como objetivo verificar se o candidato tem conhecimento o suficiente para fazer um projeto de classificação de dados utilizando algoritmos de Machine Learing. O notebook abaixo dá as instruções do que deve ser feito em cada etapa do projeto.\n",
    "\n",
    "Você deve escrever seus códigos nas células indicadas. Pode inserir quantas célular achar necessário, mas não altere a ordem das resoluções.\n",
    "\n",
    "Além da corretude, será avaliado também a organização e a lógica utilizada. O candidato deve deixar claro os motivos das escolhas que fizer no projeto (porque aplicou algum tratamento, algoritmo ou por que utilizou as variáveis que utilizou).\n",
    "\n",
    "Entregas incompletas também serão aceitas. Os avaliadores irão analisar cada situação, então se não conseguir fazer tudo recomendamos que submeta o case mesmo assim."
   ]
  },
  {
   "attachments": {},
   "cell_type": "markdown",
   "metadata": {},
   "source": [
    "### Sua tarefa para esse case"
   ]
  },
  {
   "attachments": {},
   "cell_type": "markdown",
   "metadata": {},
   "source": [
    "Sua tarefa consiste em entender o conjunto de dados e criar um classificador que consiga indicar qual membro da gestão deve capturar um pokémon. Para isso, seu trabalho será divido em 5 tarefas:\n",
    "\n",
    "1. \"Responda as questões\": responda algumas perguntas de análise premilinar sobre o conjunto de dados utilizando pandas e numpy.\n",
    "\n",
    "2. \"Visualização dos dados\": crie gráficos que respondam algumas questões sobre o conjunto de dados \n",
    "\n",
    "3. \"Preparação de dados\": faça a limpeza e preparação dos dados; testar métodos de normalização e padronização, conforme necessário. Além disso, deve discutir e/ou abordar o tratamento de dados ausentes e duplicados.\n",
    "\n",
    "4. \"Aplicação e otimização do modelo\": crie um classicador que consiga indicar com base nas características do pokémon quem deveria capturá-lo, detalhando o processo de treinamento.\n",
    "\n",
    "5. \"Avaliação\": avalie o classificador criado, utilizando diferentes métricas de avaliação. A interpretação dos resultados deve ser clara, permitindo que se compreenda o desempenho do modelo em diferentes aspectos.\n",
    "\n",
    "Mais detalhes das tarefas estão no decorrer do notebook."
   ]
  },
  {
   "attachments": {},
   "cell_type": "markdown",
   "metadata": {},
   "source": [
    "### Sobre o Conjunto de Dados "
   ]
  },
  {
   "attachments": {},
   "cell_type": "markdown",
   "metadata": {},
   "source": [
    "O dataset possui as seguintes colunas:\n",
    "\n",
    "\n",
    "- #: Número de indentificação do pokémon \n",
    "- Name: Nome do pokémon\n",
    "- Type 1: Tipo primário do pokémon\n",
    "- Type 2: Tipo secundário do pokémon\n",
    "- HP: \"hit points\", ou seja, a quantidade de dano que o pokémon pode sofrer antes de ser derrotado \n",
    "- Attack: poder de ataque do pokémon\n",
    "- Defense: poder de defesa do pokémon\n",
    "- SP Atk: poder de ataque especial do pokémon\n",
    "- SP Def: poder de defesa especial do pokémon\n",
    "- Speed: determina qual pokémon ataca primeiro em cada rodada\n",
    "- Total: soma de todos os stats do pokémon. Stats são o HP, Attack, Defense, Sp. Atk, Sp. Def e Speed\n",
    "- Generation: geração do pokémon. Ao lançar um novo jogo principal de pokémon, vem uma nova leva de Pokémon que formam uma nova geração. Temos 6 gerações contempladas nesse conjunto.\n",
    "- Legendary: indica se o pokémon é lendário ou não.\n",
    "- Dono: um indicativo de quem deveria capturar o pokémon dentre os membros da diretoria do Hype.\n"
   ]
  },
  {
   "attachments": {},
   "cell_type": "markdown",
   "metadata": {},
   "source": [
    "## Setup "
   ]
  },
  {
   "attachments": {},
   "cell_type": "markdown",
   "metadata": {},
   "source": [
    "Antes de iniciar as tarefas, vamos setar algumas coisas:"
   ]
  },
  {
   "attachments": {},
   "cell_type": "markdown",
   "metadata": {},
   "source": [
    "Na célula abaixo, importe todas as bibliotecas que você utilizará no case. Não faça imports fora além dessa célula, por favor."
   ]
  },
  {
   "cell_type": "code",
   "execution_count": 3,
   "metadata": {},
   "outputs": [],
   "source": [
    "# coloque aqui os seus import\n",
    "import pandas as pd"
   ]
  },
  {
   "attachments": {},
   "cell_type": "markdown",
   "metadata": {},
   "source": [
    "Abaixo há a leitura do conjunto de dados. Não leia nenhum conjunto de dados além desse e não altere a forma de leitura do dataset."
   ]
  },
  {
   "cell_type": "code",
   "execution_count": 4,
   "metadata": {},
   "outputs": [],
   "source": [
    "# leitura do dataset\n",
    "pkmn = pd.read_csv('dataset/pokemon_hype.csv')"
   ]
  },
  {
   "cell_type": "code",
   "execution_count": 5,
   "metadata": {},
   "outputs": [
    {
     "data": {
      "text/html": [
       "<div>\n",
       "<style scoped>\n",
       "    .dataframe tbody tr th:only-of-type {\n",
       "        vertical-align: middle;\n",
       "    }\n",
       "\n",
       "    .dataframe tbody tr th {\n",
       "        vertical-align: top;\n",
       "    }\n",
       "\n",
       "    .dataframe thead th {\n",
       "        text-align: right;\n",
       "    }\n",
       "</style>\n",
       "<table border=\"1\" class=\"dataframe\">\n",
       "  <thead>\n",
       "    <tr style=\"text-align: right;\">\n",
       "      <th></th>\n",
       "      <th>Unnamed: 0</th>\n",
       "      <th>#</th>\n",
       "      <th>Name</th>\n",
       "      <th>Type 1</th>\n",
       "      <th>Type 2</th>\n",
       "      <th>Total</th>\n",
       "      <th>HP</th>\n",
       "      <th>Attack</th>\n",
       "      <th>Defense</th>\n",
       "      <th>Sp. Atk</th>\n",
       "      <th>Sp. Def</th>\n",
       "      <th>Speed</th>\n",
       "      <th>Generation</th>\n",
       "      <th>Legendary</th>\n",
       "      <th>Dono</th>\n",
       "    </tr>\n",
       "  </thead>\n",
       "  <tbody>\n",
       "    <tr>\n",
       "      <th>0</th>\n",
       "      <td>0</td>\n",
       "      <td>1</td>\n",
       "      <td>Bulbasaur</td>\n",
       "      <td>Grass</td>\n",
       "      <td>Poison</td>\n",
       "      <td>318</td>\n",
       "      <td>45</td>\n",
       "      <td>49</td>\n",
       "      <td>49</td>\n",
       "      <td>65</td>\n",
       "      <td>65</td>\n",
       "      <td>45</td>\n",
       "      <td>1</td>\n",
       "      <td>False</td>\n",
       "      <td>Thomaz</td>\n",
       "    </tr>\n",
       "    <tr>\n",
       "      <th>1</th>\n",
       "      <td>1</td>\n",
       "      <td>2</td>\n",
       "      <td>Ivysaur</td>\n",
       "      <td>Grass</td>\n",
       "      <td>Poison</td>\n",
       "      <td>405</td>\n",
       "      <td>60</td>\n",
       "      <td>62</td>\n",
       "      <td>63</td>\n",
       "      <td>80</td>\n",
       "      <td>80</td>\n",
       "      <td>60</td>\n",
       "      <td>1</td>\n",
       "      <td>False</td>\n",
       "      <td>Becky</td>\n",
       "    </tr>\n",
       "    <tr>\n",
       "      <th>2</th>\n",
       "      <td>2</td>\n",
       "      <td>3</td>\n",
       "      <td>Venusaur</td>\n",
       "      <td>Grass</td>\n",
       "      <td>Poison</td>\n",
       "      <td>525</td>\n",
       "      <td>80</td>\n",
       "      <td>82</td>\n",
       "      <td>83</td>\n",
       "      <td>100</td>\n",
       "      <td>100</td>\n",
       "      <td>80</td>\n",
       "      <td>1</td>\n",
       "      <td>False</td>\n",
       "      <td>Becky</td>\n",
       "    </tr>\n",
       "    <tr>\n",
       "      <th>3</th>\n",
       "      <td>3</td>\n",
       "      <td>3</td>\n",
       "      <td>VenusaurMega Venusaur</td>\n",
       "      <td>Grass</td>\n",
       "      <td>Poison</td>\n",
       "      <td>625</td>\n",
       "      <td>80</td>\n",
       "      <td>100</td>\n",
       "      <td>123</td>\n",
       "      <td>122</td>\n",
       "      <td>120</td>\n",
       "      <td>80</td>\n",
       "      <td>1</td>\n",
       "      <td>False</td>\n",
       "      <td>Isa</td>\n",
       "    </tr>\n",
       "    <tr>\n",
       "      <th>4</th>\n",
       "      <td>4</td>\n",
       "      <td>4</td>\n",
       "      <td>Charmander</td>\n",
       "      <td>Fire</td>\n",
       "      <td>NaN</td>\n",
       "      <td>309</td>\n",
       "      <td>39</td>\n",
       "      <td>52</td>\n",
       "      <td>43</td>\n",
       "      <td>60</td>\n",
       "      <td>50</td>\n",
       "      <td>65</td>\n",
       "      <td>1</td>\n",
       "      <td>False</td>\n",
       "      <td>Thomaz</td>\n",
       "    </tr>\n",
       "  </tbody>\n",
       "</table>\n",
       "</div>"
      ],
      "text/plain": [
       "   Unnamed: 0  #                   Name Type 1  Type 2  Total  HP  Attack  \\\n",
       "0           0  1              Bulbasaur  Grass  Poison    318  45      49   \n",
       "1           1  2                Ivysaur  Grass  Poison    405  60      62   \n",
       "2           2  3               Venusaur  Grass  Poison    525  80      82   \n",
       "3           3  3  VenusaurMega Venusaur  Grass  Poison    625  80     100   \n",
       "4           4  4             Charmander   Fire     NaN    309  39      52   \n",
       "\n",
       "   Defense  Sp. Atk  Sp. Def  Speed  Generation  Legendary    Dono  \n",
       "0       49       65       65     45           1      False  Thomaz  \n",
       "1       63       80       80     60           1      False   Becky  \n",
       "2       83      100      100     80           1      False   Becky  \n",
       "3      123      122      120     80           1      False     Isa  \n",
       "4       43       60       50     65           1      False  Thomaz  "
      ]
     },
     "execution_count": 5,
     "metadata": {},
     "output_type": "execute_result"
    }
   ],
   "source": [
    "# visualização das 5 primeiras linhas\n",
    "pkmn.head()"
   ]
  },
  {
   "attachments": {},
   "cell_type": "markdown",
   "metadata": {},
   "source": [
    "## Tarefas"
   ]
  },
  {
   "attachments": {},
   "cell_type": "markdown",
   "metadata": {},
   "source": [
    "Abaixo, em cada seção, realize as tarefas. Boa sorte!!!"
   ]
  },
  {
   "attachments": {},
   "cell_type": "markdown",
   "metadata": {},
   "source": [
    "### **Seção 1: Respondas as questões**"
   ]
  },
  {
   "attachments": {},
   "cell_type": "markdown",
   "metadata": {},
   "source": [
    "Com base no conjunto de dados, responda as perguntas abaixo utilizando Pandas ou Numpy para obter os resultados. Coloque seu código na célula marcada com \"### Seu código\" e sua resposta após o \"Resposta\". Fique a vontade para criar mais células para o seu código caso ache necessário.\n",
    "\n",
    "O item \"a\" é um exemplo de resposta"
   ]
  },
  {
   "attachments": {},
   "cell_type": "markdown",
   "metadata": {},
   "source": [
    "#### a. Dentre os pokémon de Fogo como 'Type 1', qual porcentagem deles são lendários? (Exemplo)"
   ]
  },
  {
   "cell_type": "code",
   "execution_count": 6,
   "metadata": {},
   "outputs": [
    {
     "name": "stderr",
     "output_type": "stream",
     "text": [
      "C:\\Users\\Clune\\AppData\\Local\\Temp\\ipykernel_14096\\1870846260.py:3: UserWarning: Boolean Series key will be reindexed to match DataFrame index.\n",
      "  pkmn_fogo_lendario = pkmn_fogo[pkmn['Legendary'] == 1]\n"
     ]
    },
    {
     "data": {
      "text/plain": [
       "0.09615384615384616"
      ]
     },
     "execution_count": 6,
     "metadata": {},
     "output_type": "execute_result"
    }
   ],
   "source": [
    "### Seu código\n",
    "pkmn_fogo = pkmn[pkmn['Type 1'] == 'Fire']\n",
    "pkmn_fogo_lendario = pkmn_fogo[pkmn['Legendary'] == 1]\n",
    "\n",
    "len(pkmn_fogo_lendario)/len(pkmn_fogo)"
   ]
  },
  {
   "attachments": {},
   "cell_type": "markdown",
   "metadata": {},
   "source": [
    "Resposta: aproximadamente 0.096"
   ]
  },
  {
   "attachments": {},
   "cell_type": "markdown",
   "metadata": {},
   "source": [
    "#### b. Quantos pokémon existem com o tipo primário (\"Type 1\") \"Fire\" ? E como tipo segundário? "
   ]
  },
  {
   "cell_type": "code",
   "execution_count": 7,
   "metadata": {},
   "outputs": [
    {
     "data": {
      "text/plain": [
       "52"
      ]
     },
     "execution_count": 7,
     "metadata": {},
     "output_type": "execute_result"
    }
   ],
   "source": [
    "### Seu código\n",
    "len(pkmn_fogo)"
   ]
  },
  {
   "cell_type": "code",
   "execution_count": 8,
   "metadata": {},
   "outputs": [
    {
     "data": {
      "text/plain": [
       "12"
      ]
     },
     "execution_count": 8,
     "metadata": {},
     "output_type": "execute_result"
    }
   ],
   "source": [
    "### Seu código\n",
    "pkmn_fogo_secundario = pkmn[pkmn['Type 2'] == 'Fire']\n",
    "len(pkmn_fogo_secundario)"
   ]
  },
  {
   "attachments": {},
   "cell_type": "markdown",
   "metadata": {},
   "source": [
    "#### c. Dentre os pokémon da 5ª geração que não possuem tipo fogo como tipo primário, nem como tipo secundário, qual possui a maior defesa?"
   ]
  },
  {
   "cell_type": "code",
   "execution_count": 9,
   "metadata": {},
   "outputs": [
    {
     "data": {
      "text/plain": [
       "624    Cofagrigus\n",
       "Name: Name, dtype: object"
      ]
     },
     "execution_count": 9,
     "metadata": {},
     "output_type": "execute_result"
    }
   ],
   "source": [
    "### Seu código\n",
    "pkmn_gen5 = pkmn[pkmn['Generation'] == 5]\n",
    "pkmn_gen5_naofogo = pkmn_gen5[(pkmn_gen5['Type 1'] != 'Fire') & (pkmn_gen5['Type 2'] != 'Fire')]\n",
    "pkmn_gen5_naofogo_maior_defesa = pkmn_gen5_naofogo[pkmn_gen5_naofogo['Defense'] == pkmn_gen5_naofogo['Defense'].max()]\n",
    "\n",
    "pkmn_gen5_naofogo_maior_defesa.Name"
   ]
  },
  {
   "attachments": {},
   "cell_type": "markdown",
   "metadata": {},
   "source": [
    "Resposta: Cofagrigus"
   ]
  },
  {
   "attachments": {},
   "cell_type": "markdown",
   "metadata": {},
   "source": [
    "#### d. Qual a geração de pokémon que possui a maior média de ataque entre os lendários?"
   ]
  },
  {
   "cell_type": "code",
   "execution_count": 20,
   "metadata": {},
   "outputs": [
    {
     "data": {
      "text/plain": [
       "4"
      ]
     },
     "execution_count": 20,
     "metadata": {},
     "output_type": "execute_result"
    }
   ],
   "source": [
    "### Seu código\n",
    "geracoes = pkmn.groupby('Generation')\n",
    "geracao_com_maior_ataque = geracoes['Attack'].mean().idxmax()\n",
    "\n",
    "int(geracao_com_maior_ataque)"
   ]
  },
  {
   "attachments": {},
   "cell_type": "markdown",
   "metadata": {},
   "source": [
    "Resposta: 4"
   ]
  },
  {
   "attachments": {},
   "cell_type": "markdown",
   "metadata": {},
   "source": [
    "#### e. Em relação aos donos dos pokémon, responda as seguintes perguntas:\n",
    "- Qual dono tem a maior média entre os \"total\" dos pokémon?\n",
    "- Qual dono possui mais pokémon lendários?\n",
    "- Escolha um dos donos e diga qual geração ele possui mais pokémon."
   ]
  },
  {
   "cell_type": "code",
   "execution_count": 8,
   "metadata": {},
   "outputs": [
    {
     "name": "stdout",
     "output_type": "stream",
     "text": [
      "Isa\n"
     ]
    }
   ],
   "source": [
    "### Seu código\n",
    "donos = pkmn.groupby('Dono')\n",
    "dono_com_maior_media_total = donos['Total'].mean().idxmax()\n",
    "print(dono_com_maior_media_total)\n"
   ]
  },
  {
   "cell_type": "code",
   "execution_count": 32,
   "metadata": {},
   "outputs": [
    {
     "name": "stdout",
     "output_type": "stream",
     "text": [
      "Isa\n"
     ]
    }
   ],
   "source": [
    "### Seu código\n",
    "dono_com_mais_lendarios = donos['Legendary'].sum().idxmax()\n",
    "print(dono_com_mais_lendarios)"
   ]
  },
  {
   "cell_type": "code",
   "execution_count": 11,
   "metadata": {},
   "outputs": [
    {
     "data": {
      "text/plain": [
       "3"
      ]
     },
     "execution_count": 11,
     "metadata": {},
     "output_type": "execute_result"
    }
   ],
   "source": [
    "### Seu código\n",
    "\n",
    "## Vou escolher a Isa!!!\n",
    "Isa = donos.get_group('Isa')\n",
    "geracoes_isa = Isa.groupby('Generation')\n",
    "geracao_mais_pokemon_isa = geracoes_isa.count().idxmax()\n",
    "\n",
    "int(geracao_mais_pokemon_isa.iloc[0])\n"
   ]
  },
  {
   "attachments": {},
   "cell_type": "markdown",
   "metadata": {},
   "source": [
    "### **Seção 2: Visualização de Dados**"
   ]
  },
  {
   "attachments": {},
   "cell_type": "markdown",
   "metadata": {},
   "source": [
    "Nessa seção, crie gráficos que respondam as seguintes perguntas:\n",
    "\n",
    "a. Quais variáveis são mais correlacionadas?\n",
    "\n",
    "b. Escolha 1 stat e responda a seguinte pergunta: a distribuição desse stat varia dependendo do dono? Dica: utilize box-plots ou histogramas.\n",
    "\n",
    "c. Escolha 2 stats (pode repetir o da pergunta anterior) e responda a seguinte pergunta: considerando esses 2 stats, é possível distinguir através do gráfico os donos? Dica: utilize graficos de dispensão.\n",
    "\n",
    "Fique a vontade para usar quantos gráficos achar necessário para responder as perguntas. Você pode usar 1 ou diversos gráficos para responder. Também fique a vontade para criar gráficos que descrevam o conjunto de dados além das perguntas feitas. Sugerimos as bibliotecas matplotlib e seaborn.\n",
    "\n",
    "Além dos gráficos, é importante que escreva a sua interpretação do gráfico e o que ele diz sobre a pergunta feita."
   ]
  },
  {
   "attachments": {},
   "cell_type": "markdown",
   "metadata": {},
   "source": [
    "#### Pergunta a."
   ]
  },
  {
   "cell_type": "code",
   "execution_count": null,
   "metadata": {},
   "outputs": [],
   "source": [
    "### Seu código"
   ]
  },
  {
   "attachments": {},
   "cell_type": "markdown",
   "metadata": {},
   "source": [
    "#### Pergunta b."
   ]
  },
  {
   "cell_type": "code",
   "execution_count": null,
   "metadata": {},
   "outputs": [],
   "source": [
    "### Seu código"
   ]
  },
  {
   "attachments": {},
   "cell_type": "markdown",
   "metadata": {},
   "source": [
    "#### Pergunta c."
   ]
  },
  {
   "cell_type": "code",
   "execution_count": null,
   "metadata": {},
   "outputs": [],
   "source": [
    "### Seu código"
   ]
  },
  {
   "attachments": {},
   "cell_type": "markdown",
   "metadata": {},
   "source": [
    "### **Seção 3: Preparação de dados**"
   ]
  },
  {
   "attachments": {},
   "cell_type": "markdown",
   "metadata": {},
   "source": [
    "Antes de implementar o seu modelo de machine learning, faça o pré-processamento necessário para os seus dados. Tópicos importantes a serem resolvidos nessa seção são: \n",
    "\n",
    "- Tratamento de dados nulos\n",
    "- Normalização de variáveis numéricas\n",
    "- Transformação de variáveis categoricas em numéricas \n",
    "- Seleção de features\n",
    "\n",
    "Não necessáriamente os tópicos acima devem ser resolvidos. Pode ser que o algoritmo de machine learning que você escolha não necessite dos tratamentos acima para funcionar ou para melhorar o desempenho. Porém, caso fosse necessário e você não realizou o tratamento, será descontado pontos.\n",
    "\n",
    "Além dos tópicos acima, faça os tratamentos que julgar necessário."
   ]
  },
  {
   "attachments": {},
   "cell_type": "markdown",
   "metadata": {},
   "source": [
    "#### Dados nulos"
   ]
  },
  {
   "cell_type": "code",
   "execution_count": null,
   "metadata": {},
   "outputs": [],
   "source": [
    "### Seu código"
   ]
  },
  {
   "attachments": {},
   "cell_type": "markdown",
   "metadata": {},
   "source": [
    "#### One hot encoding"
   ]
  },
  {
   "cell_type": "code",
   "execution_count": null,
   "metadata": {},
   "outputs": [],
   "source": [
    "### Seu código"
   ]
  },
  {
   "attachments": {},
   "cell_type": "markdown",
   "metadata": {},
   "source": [
    "#### Normalização"
   ]
  },
  {
   "cell_type": "code",
   "execution_count": null,
   "metadata": {},
   "outputs": [],
   "source": [
    "### Seu código"
   ]
  },
  {
   "attachments": {},
   "cell_type": "markdown",
   "metadata": {},
   "source": [
    "#### Seleção de features"
   ]
  },
  {
   "cell_type": "code",
   "execution_count": null,
   "metadata": {},
   "outputs": [],
   "source": [
    "### Seu código"
   ]
  },
  {
   "attachments": {},
   "cell_type": "markdown",
   "metadata": {},
   "source": [
    "### **Seção 4: Aplicação e Otimização do modelo**"
   ]
  },
  {
   "attachments": {},
   "cell_type": "markdown",
   "metadata": {},
   "source": [
    "Nessa seção, você deverá criar, treinar e testar um classificador que prediz o dono com base nas características do pokémon. Para isso, você deverá:\n",
    "\n",
    "- Dividir o conjunto em treino e teste.\n",
    "- Escolher um algoritmo de machine learning. Exemplos: Random Forest, KNN, Decision Tree, MLP.\n",
    "- Treinar o modelo com os dados de treino.\n",
    "- Predizer a label a partir das features de teste.\n",
    "- Utilizar algum método para ajustar os hiperparâmetros. Discuta as melhorias obtidas."
   ]
  },
  {
   "attachments": {},
   "cell_type": "markdown",
   "metadata": {},
   "source": [
    "#### Separação Treino e Teste"
   ]
  },
  {
   "cell_type": "code",
   "execution_count": null,
   "metadata": {},
   "outputs": [],
   "source": [
    "### Seu código"
   ]
  },
  {
   "attachments": {},
   "cell_type": "markdown",
   "metadata": {},
   "source": [
    "#### Aplicação do modelo"
   ]
  },
  {
   "cell_type": "code",
   "execution_count": null,
   "metadata": {},
   "outputs": [],
   "source": [
    "### Seu código"
   ]
  },
  {
   "attachments": {},
   "cell_type": "markdown",
   "metadata": {},
   "source": [
    "#### Hyperparameter Tuning"
   ]
  },
  {
   "cell_type": "code",
   "execution_count": null,
   "metadata": {},
   "outputs": [],
   "source": [
    "### Seu código"
   ]
  },
  {
   "attachments": {},
   "cell_type": "markdown",
   "metadata": {},
   "source": [
    "#### **Seção 5: Avaliação**"
   ]
  },
  {
   "attachments": {},
   "cell_type": "markdown",
   "metadata": {},
   "source": [
    "Avaliar o desempenho do modelo é crucial. Utilize pelo menos 3 métricas para essa avaliação, detalhando-as. O que as métricas indicam sobre o desempenho do seu modelo? Dica de métricas: acurácia e revocação."
   ]
  },
  {
   "cell_type": "code",
   "execution_count": null,
   "metadata": {},
   "outputs": [],
   "source": [
    "### Seu código"
   ]
  }
 ],
 "metadata": {
  "kernelspec": {
   "display_name": "Python 3 (ipykernel)",
   "language": "python",
   "name": "python3"
  },
  "language_info": {
   "codemirror_mode": {
    "name": "ipython",
    "version": 3
   },
   "file_extension": ".py",
   "mimetype": "text/x-python",
   "name": "python",
   "nbconvert_exporter": "python",
   "pygments_lexer": "ipython3",
   "version": "3.12.9"
  }
 },
 "nbformat": 4,
 "nbformat_minor": 4
}
